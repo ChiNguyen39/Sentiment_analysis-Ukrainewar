{
 "cells": [
  {
   "cell_type": "markdown",
   "id": "da97052f",
   "metadata": {},
   "source": [
    "# Use NLP to do sentiment analysis on social media data\n",
    "\n",
    "This project was conducted in the middle of the stress time of Ukraine war, hence I pulled the data on Reddit to see what they were talking and how they reacted with this war:\n",
    "- Firstly, pulled the data from Reddit with topic is 'Ukraine'.\n",
    "- Next, extract the sentiment scores of the titles of the posts.\n",
    "- Plot a histogram of the sentiment scores\n",
    "- Look at descriptive statistics (mean, median, standard deviation) of the sentiment scores\n",
    "- Examine the text for some of the highest and lowest sentiment scores\n",
    "- Finally, I write a short analysis of the results and the process. "
   ]
  },
  {
   "cell_type": "markdown",
   "id": "79bb7558",
   "metadata": {},
   "source": [
    "### Collect social data from Reddit, topic is 'ukraine'"
   ]
  },
  {
   "cell_type": "code",
   "execution_count": 10,
   "id": "59a539ed",
   "metadata": {},
   "outputs": [],
   "source": [
    "import praw\n",
    "import pandas as pd\n",
    "import sqlite3\n",
    "import pandas as pd\n",
    "import credentialsChi"
   ]
  },
  {
   "cell_type": "code",
   "execution_count": 2,
   "id": "00990e38",
   "metadata": {},
   "outputs": [
    {
     "name": "stderr",
     "output_type": "stream",
     "text": [
      "Version 7.6.1 of praw is outdated. Version 7.7.0 was released Saturday February 25, 2023.\n"
     ]
    }
   ],
   "source": [
    "reddit = praw.Reddit(client_id=credentialsChi.client_id,\n",
    "                     client_secret=credentialsChi.client_secret,\n",
    "                     user_agent=credentialsChi.user_agent)"
   ]
  },
  {
   "cell_type": "code",
   "execution_count": 3,
   "id": "dc2e9aec",
   "metadata": {},
   "outputs": [],
   "source": [
    "ukr_subreddit = reddit.subreddit('ukraine').hot(limit=10)"
   ]
  },
  {
   "cell_type": "code",
   "execution_count": 4,
   "id": "bd866bf4",
   "metadata": {},
   "outputs": [
    {
     "name": "stdout",
     "output_type": "stream",
     "text": [
      "6:24 EET; The Sun is Rising Over Kyiv on the 380th Day of the Full-Scale Invasion. Today's post is the final entry in our series about Taras Shevchenko, who died on this day in 1861. 402\n",
      "Good news. We almost done with DJI Mavic 3T. Need more $2308 and we will buy this drone for Ukrainian soldiers in Bakhmut. Hope for your help. All info in the comments. 696\n",
      "For those who worry that standing up to Russia would just provoke Putin and drag the world into war - we only have to look at the history of the 20th century. Nothing is more provocative to a dictator than the weakness of free nations. 11121\n",
      "Many explosions heard in Mariupol! 1033\n",
      "Farewell ceremony for Hero of Ukraine Dmytro \"Da Vinci\" Kotsubailo commander of 1st Assult Battalion \"Da Vinci's wolfs\" 1760\n",
      "On the night of March 10, 2023, partisans burned a combat aircraft near Vladivostok, russia 903\n",
      "Finland's PM Sanna Marin in Kyiv today pays respects to Dmytro Kotsyubailo \"da Vinci\" who died fighting for Bakhmut 1207\n",
      "The Wagner Group's offensive operation in eastern Bakhmut appears to have entered a temporary tactical pause 1443\n",
      "Armored vehicles. Unknown time/location. Bradleys? 390\n",
      "Today, on the day of the Ukrainian anthem, President Zelensky published a video showing Ukrainians singing their anthem in different conditions: on the frontline, in a bomb shelter, during the Revolution of Dignity as well as during the celebration of Independence day. 475\n"
     ]
    }
   ],
   "source": [
    "for post in ukr_subreddit:\n",
    "    print(post.title, post.score)"
   ]
  },
  {
   "cell_type": "code",
   "execution_count": 5,
   "id": "47955b26",
   "metadata": {},
   "outputs": [],
   "source": [
    "reddit_data = {'title': [],\n",
    "              'link': [],\n",
    "              'author': [],\n",
    "              'n_comments': [],\n",
    "              'score': [],\n",
    "              'text': [],\n",
    "              'id': []}\n",
    "\n",
    "\n",
    "ukr_subreddit = reddit.subreddit('ukraine').hot(limit=None)\n",
    "\n",
    "for post in list(ukr_subreddit):\n",
    "    reddit_data['title'].append(post.title)\n",
    "    reddit_data['link'].append(post.permalink)\n",
    "    if post.author is None:\n",
    "        reddit_data['author'].append('')\n",
    "    else:\n",
    "        reddit_data['author'].append(post.author.name)\n",
    "    \n",
    "    reddit_data['n_comments'].append(post.num_comments)\n",
    "    reddit_data['score'].append(post.score)\n",
    "    reddit_data['text'].append(post.selftext)\n",
    "    reddit_data['id'].append(post.id)"
   ]
  },
  {
   "cell_type": "code",
   "execution_count": 6,
   "id": "9f20582d",
   "metadata": {},
   "outputs": [
    {
     "data": {
      "text/html": [
       "<div>\n",
       "<style scoped>\n",
       "    .dataframe tbody tr th:only-of-type {\n",
       "        vertical-align: middle;\n",
       "    }\n",
       "\n",
       "    .dataframe tbody tr th {\n",
       "        vertical-align: top;\n",
       "    }\n",
       "\n",
       "    .dataframe thead th {\n",
       "        text-align: right;\n",
       "    }\n",
       "</style>\n",
       "<table border=\"1\" class=\"dataframe\">\n",
       "  <thead>\n",
       "    <tr style=\"text-align: right;\">\n",
       "      <th></th>\n",
       "      <th>title</th>\n",
       "      <th>link</th>\n",
       "      <th>author</th>\n",
       "      <th>n_comments</th>\n",
       "      <th>score</th>\n",
       "      <th>text</th>\n",
       "      <th>id</th>\n",
       "    </tr>\n",
       "  </thead>\n",
       "  <tbody>\n",
       "    <tr>\n",
       "      <th>0</th>\n",
       "      <td>6:24 EET; The Sun is Rising Over Kyiv on the 3...</td>\n",
       "      <td>/r/ukraine/comments/11neqpy/624_eet_the_sun_is...</td>\n",
       "      <td>duellingislands</td>\n",
       "      <td>9</td>\n",
       "      <td>400</td>\n",
       "      <td># 🇺🇦 Слава Україні! 🇺🇦\\n\\n\\_\\_\\_\\_\\_\\_\\_\\_\\_\\_...</td>\n",
       "      <td>11neqpy</td>\n",
       "    </tr>\n",
       "    <tr>\n",
       "      <th>1</th>\n",
       "      <td>Good news. We almost done with DJI Mavic 3T. N...</td>\n",
       "      <td>/r/ukraine/comments/11mraik/good_news_we_almos...</td>\n",
       "      <td>serhiiiam</td>\n",
       "      <td>23</td>\n",
       "      <td>700</td>\n",
       "      <td></td>\n",
       "      <td>11mraik</td>\n",
       "    </tr>\n",
       "    <tr>\n",
       "      <th>2</th>\n",
       "      <td>For those who worry that standing up to Russia...</td>\n",
       "      <td>/r/ukraine/comments/11ngsfp/for_those_who_worr...</td>\n",
       "      <td>pastebluepaste</td>\n",
       "      <td>262</td>\n",
       "      <td>11121</td>\n",
       "      <td></td>\n",
       "      <td>11ngsfp</td>\n",
       "    </tr>\n",
       "    <tr>\n",
       "      <th>3</th>\n",
       "      <td>Many explosions heard in Mariupol!</td>\n",
       "      <td>/r/ukraine/comments/11ns1zo/many_explosions_he...</td>\n",
       "      <td>Kubolomo</td>\n",
       "      <td>104</td>\n",
       "      <td>1043</td>\n",
       "      <td></td>\n",
       "      <td>11ns1zo</td>\n",
       "    </tr>\n",
       "    <tr>\n",
       "      <th>4</th>\n",
       "      <td>Farewell ceremony for Hero of Ukraine Dmytro \"...</td>\n",
       "      <td>/r/ukraine/comments/11nnc7m/farewell_ceremony_...</td>\n",
       "      <td>BananaBrumik</td>\n",
       "      <td>46</td>\n",
       "      <td>1761</td>\n",
       "      <td></td>\n",
       "      <td>11nnc7m</td>\n",
       "    </tr>\n",
       "    <tr>\n",
       "      <th>...</th>\n",
       "      <td>...</td>\n",
       "      <td>...</td>\n",
       "      <td>...</td>\n",
       "      <td>...</td>\n",
       "      <td>...</td>\n",
       "      <td>...</td>\n",
       "      <td>...</td>\n",
       "    </tr>\n",
       "    <tr>\n",
       "      <th>807</th>\n",
       "      <td>It's Always Sunny in Crimea - You can support ...</td>\n",
       "      <td>/r/ukraine/comments/11h52jm/its_always_sunny_i...</td>\n",
       "      <td>Ukraine_Aid_Ops</td>\n",
       "      <td>5</td>\n",
       "      <td>182</td>\n",
       "      <td></td>\n",
       "      <td>11h52jm</td>\n",
       "    </tr>\n",
       "    <tr>\n",
       "      <th>808</th>\n",
       "      <td>Destruction of the Russian Tor-M2 air defense ...</td>\n",
       "      <td>/r/ukraine/comments/11h15ce/destruction_of_the...</td>\n",
       "      <td>Kay51995</td>\n",
       "      <td>4</td>\n",
       "      <td>303</td>\n",
       "      <td></td>\n",
       "      <td>11h15ce</td>\n",
       "    </tr>\n",
       "    <tr>\n",
       "      <th>809</th>\n",
       "      <td>Video of the downed Su-34.</td>\n",
       "      <td>/r/ukraine/comments/11h2en2/video_of_the_downe...</td>\n",
       "      <td>Geschichtsklitterung</td>\n",
       "      <td>22</td>\n",
       "      <td>257</td>\n",
       "      <td></td>\n",
       "      <td>11h2en2</td>\n",
       "    </tr>\n",
       "    <tr>\n",
       "      <th>810</th>\n",
       "      <td>Magyar update from Bakhmut - dated 2 March, po...</td>\n",
       "      <td>/r/ukraine/comments/11gxxmz/magyar_update_from...</td>\n",
       "      <td>RoninSolutions</td>\n",
       "      <td>47</td>\n",
       "      <td>483</td>\n",
       "      <td></td>\n",
       "      <td>11gxxmz</td>\n",
       "    </tr>\n",
       "    <tr>\n",
       "      <th>811</th>\n",
       "      <td>Zelensky meets with Latvian President in Lviv</td>\n",
       "      <td>/r/ukraine/comments/11h4bwa/zelensky_meets_wit...</td>\n",
       "      <td>KI_official</td>\n",
       "      <td>2</td>\n",
       "      <td>194</td>\n",
       "      <td></td>\n",
       "      <td>11h4bwa</td>\n",
       "    </tr>\n",
       "  </tbody>\n",
       "</table>\n",
       "<p>812 rows × 7 columns</p>\n",
       "</div>"
      ],
      "text/plain": [
       "                                                 title  \\\n",
       "0    6:24 EET; The Sun is Rising Over Kyiv on the 3...   \n",
       "1    Good news. We almost done with DJI Mavic 3T. N...   \n",
       "2    For those who worry that standing up to Russia...   \n",
       "3                   Many explosions heard in Mariupol!   \n",
       "4    Farewell ceremony for Hero of Ukraine Dmytro \"...   \n",
       "..                                                 ...   \n",
       "807  It's Always Sunny in Crimea - You can support ...   \n",
       "808  Destruction of the Russian Tor-M2 air defense ...   \n",
       "809                         Video of the downed Su-34.   \n",
       "810  Magyar update from Bakhmut - dated 2 March, po...   \n",
       "811      Zelensky meets with Latvian President in Lviv   \n",
       "\n",
       "                                                  link                author  \\\n",
       "0    /r/ukraine/comments/11neqpy/624_eet_the_sun_is...       duellingislands   \n",
       "1    /r/ukraine/comments/11mraik/good_news_we_almos...             serhiiiam   \n",
       "2    /r/ukraine/comments/11ngsfp/for_those_who_worr...        pastebluepaste   \n",
       "3    /r/ukraine/comments/11ns1zo/many_explosions_he...              Kubolomo   \n",
       "4    /r/ukraine/comments/11nnc7m/farewell_ceremony_...          BananaBrumik   \n",
       "..                                                 ...                   ...   \n",
       "807  /r/ukraine/comments/11h52jm/its_always_sunny_i...       Ukraine_Aid_Ops   \n",
       "808  /r/ukraine/comments/11h15ce/destruction_of_the...              Kay51995   \n",
       "809  /r/ukraine/comments/11h2en2/video_of_the_downe...  Geschichtsklitterung   \n",
       "810  /r/ukraine/comments/11gxxmz/magyar_update_from...        RoninSolutions   \n",
       "811  /r/ukraine/comments/11h4bwa/zelensky_meets_wit...           KI_official   \n",
       "\n",
       "     n_comments  score                                               text  \\\n",
       "0             9    400  # 🇺🇦 Слава Україні! 🇺🇦\\n\\n\\_\\_\\_\\_\\_\\_\\_\\_\\_\\_...   \n",
       "1            23    700                                                      \n",
       "2           262  11121                                                      \n",
       "3           104   1043                                                      \n",
       "4            46   1761                                                      \n",
       "..          ...    ...                                                ...   \n",
       "807           5    182                                                      \n",
       "808           4    303                                                      \n",
       "809          22    257                                                      \n",
       "810          47    483                                                      \n",
       "811           2    194                                                      \n",
       "\n",
       "          id  \n",
       "0    11neqpy  \n",
       "1    11mraik  \n",
       "2    11ngsfp  \n",
       "3    11ns1zo  \n",
       "4    11nnc7m  \n",
       "..       ...  \n",
       "807  11h52jm  \n",
       "808  11h15ce  \n",
       "809  11h2en2  \n",
       "810  11gxxmz  \n",
       "811  11h4bwa  \n",
       "\n",
       "[812 rows x 7 columns]"
      ]
     },
     "execution_count": 6,
     "metadata": {},
     "output_type": "execute_result"
    }
   ],
   "source": [
    "ukr_df = pd.DataFrame(reddit_data)\n",
    "ukr_df"
   ]
  },
  {
   "cell_type": "code",
   "execution_count": 7,
   "id": "bd0544f0",
   "metadata": {},
   "outputs": [],
   "source": [
    "# Collect comments\n",
    "reddit_comments_data = {'author': [],\n",
    "                        'score': [],\n",
    "                        'text': [],\n",
    "                        'post_id': []}\n",
    "ukr_subreddit = reddit.subreddit('ukraine').hot(limit=10)\n",
    "\n",
    "for post in list(ukr_subreddit):\n",
    "    post.comments.replace_more(limit=None)\n",
    "    for comment in post.comments:\n",
    "        if comment.author is None:\n",
    "            reddit_comments_data['author'].append('')\n",
    "        else:\n",
    "            reddit_comments_data['author'].append(comment.author.name)\n",
    "        reddit_comments_data['score'].append(comment.score)\n",
    "        reddit_comments_data['text'].append(comment.body)\n",
    "        reddit_comments_data['post_id'].append(post.id)"
   ]
  },
  {
   "cell_type": "code",
   "execution_count": 8,
   "id": "2e773ede",
   "metadata": {},
   "outputs": [
    {
     "data": {
      "text/html": [
       "<div>\n",
       "<style scoped>\n",
       "    .dataframe tbody tr th:only-of-type {\n",
       "        vertical-align: middle;\n",
       "    }\n",
       "\n",
       "    .dataframe tbody tr th {\n",
       "        vertical-align: top;\n",
       "    }\n",
       "\n",
       "    .dataframe thead th {\n",
       "        text-align: right;\n",
       "    }\n",
       "</style>\n",
       "<table border=\"1\" class=\"dataframe\">\n",
       "  <thead>\n",
       "    <tr style=\"text-align: right;\">\n",
       "      <th></th>\n",
       "      <th>author</th>\n",
       "      <th>score</th>\n",
       "      <th>text</th>\n",
       "      <th>post_id</th>\n",
       "    </tr>\n",
       "  </thead>\n",
       "  <tbody>\n",
       "    <tr>\n",
       "      <th>0</th>\n",
       "      <td>AutoModerator</td>\n",
       "      <td>1</td>\n",
       "      <td>\\nПривіт u/duellingislands ! During wartime, t...</td>\n",
       "      <td>11neqpy</td>\n",
       "    </tr>\n",
       "    <tr>\n",
       "      <th>1</th>\n",
       "      <td>spsteve</td>\n",
       "      <td>17</td>\n",
       "      <td>Unbelievable we are closing in on day 400, whe...</td>\n",
       "      <td>11neqpy</td>\n",
       "    </tr>\n",
       "    <tr>\n",
       "      <th>2</th>\n",
       "      <td>Jizzapherina</td>\n",
       "      <td>14</td>\n",
       "      <td>This is still so relevant today:\\n\\nKeep laugh...</td>\n",
       "      <td>11neqpy</td>\n",
       "    </tr>\n",
       "    <tr>\n",
       "      <th>3</th>\n",
       "      <td>sonicboomer46</td>\n",
       "      <td>13</td>\n",
       "      <td>I won't soon forget the inane russian propagan...</td>\n",
       "      <td>11neqpy</td>\n",
       "    </tr>\n",
       "    <tr>\n",
       "      <th>4</th>\n",
       "      <td>StevenStephen</td>\n",
       "      <td>7</td>\n",
       "      <td>There can be no wondering why he is so revered...</td>\n",
       "      <td>11neqpy</td>\n",
       "    </tr>\n",
       "    <tr>\n",
       "      <th>...</th>\n",
       "      <td>...</td>\n",
       "      <td>...</td>\n",
       "      <td>...</td>\n",
       "      <td>...</td>\n",
       "    </tr>\n",
       "    <tr>\n",
       "      <th>277</th>\n",
       "      <td>wunderfullynow</td>\n",
       "      <td>17</td>\n",
       "      <td>This anthem is at once sad, hopeful, defiant a...</td>\n",
       "      <td>11nqsu8</td>\n",
       "    </tr>\n",
       "    <tr>\n",
       "      <th>278</th>\n",
       "      <td>freetimerva</td>\n",
       "      <td>11</td>\n",
       "      <td>My fuckin man singing in the trench hit me rig...</td>\n",
       "      <td>11nqsu8</td>\n",
       "    </tr>\n",
       "    <tr>\n",
       "      <th>279</th>\n",
       "      <td>Named_User-Name</td>\n",
       "      <td>10</td>\n",
       "      <td>Inspiring!\\n\\nRussia will never conquer these ...</td>\n",
       "      <td>11nqsu8</td>\n",
       "    </tr>\n",
       "    <tr>\n",
       "      <th>280</th>\n",
       "      <td>Rock-it-again</td>\n",
       "      <td>9</td>\n",
       "      <td>Fuck that choked me up pretty good.</td>\n",
       "      <td>11nqsu8</td>\n",
       "    </tr>\n",
       "    <tr>\n",
       "      <th>281</th>\n",
       "      <td>Wade8869</td>\n",
       "      <td>7</td>\n",
       "      <td>Slava Ukraini!</td>\n",
       "      <td>11nqsu8</td>\n",
       "    </tr>\n",
       "  </tbody>\n",
       "</table>\n",
       "<p>282 rows × 4 columns</p>\n",
       "</div>"
      ],
      "text/plain": [
       "              author  score  \\\n",
       "0      AutoModerator      1   \n",
       "1            spsteve     17   \n",
       "2       Jizzapherina     14   \n",
       "3      sonicboomer46     13   \n",
       "4      StevenStephen      7   \n",
       "..               ...    ...   \n",
       "277   wunderfullynow     17   \n",
       "278      freetimerva     11   \n",
       "279  Named_User-Name     10   \n",
       "280    Rock-it-again      9   \n",
       "281         Wade8869      7   \n",
       "\n",
       "                                                  text  post_id  \n",
       "0    \\nПривіт u/duellingislands ! During wartime, t...  11neqpy  \n",
       "1    Unbelievable we are closing in on day 400, whe...  11neqpy  \n",
       "2    This is still so relevant today:\\n\\nKeep laugh...  11neqpy  \n",
       "3    I won't soon forget the inane russian propagan...  11neqpy  \n",
       "4    There can be no wondering why he is so revered...  11neqpy  \n",
       "..                                                 ...      ...  \n",
       "277  This anthem is at once sad, hopeful, defiant a...  11nqsu8  \n",
       "278  My fuckin man singing in the trench hit me rig...  11nqsu8  \n",
       "279  Inspiring!\\n\\nRussia will never conquer these ...  11nqsu8  \n",
       "280                Fuck that choked me up pretty good.  11nqsu8  \n",
       "281                                     Slava Ukraini!  11nqsu8  \n",
       "\n",
       "[282 rows x 4 columns]"
      ]
     },
     "execution_count": 8,
     "metadata": {},
     "output_type": "execute_result"
    }
   ],
   "source": [
    "comment_df = pd.DataFrame(reddit_comments_data)\n",
    "comment_df"
   ]
  },
  {
   "cell_type": "code",
   "execution_count": 12,
   "id": "ca69b2f2",
   "metadata": {},
   "outputs": [
    {
     "data": {
      "text/plain": [
       "812"
      ]
     },
     "execution_count": 12,
     "metadata": {},
     "output_type": "execute_result"
    }
   ],
   "source": [
    "# Save data to SQLite3 database\n",
    "ukr = sqlite3.connect(\"/Users/kienguyen/Documents/DATA SCIENCE/co_reddit.sqlite\")\n",
    "ukr_df.to_sql('posts', ukr, if_exists='replace', index=False)"
   ]
  },
  {
   "cell_type": "code",
   "execution_count": 13,
   "id": "96a2345d",
   "metadata": {},
   "outputs": [
    {
     "data": {
      "text/html": [
       "<div>\n",
       "<style scoped>\n",
       "    .dataframe tbody tr th:only-of-type {\n",
       "        vertical-align: middle;\n",
       "    }\n",
       "\n",
       "    .dataframe tbody tr th {\n",
       "        vertical-align: top;\n",
       "    }\n",
       "\n",
       "    .dataframe thead th {\n",
       "        text-align: right;\n",
       "    }\n",
       "</style>\n",
       "<table border=\"1\" class=\"dataframe\">\n",
       "  <thead>\n",
       "    <tr style=\"text-align: right;\">\n",
       "      <th></th>\n",
       "      <th>title</th>\n",
       "      <th>link</th>\n",
       "      <th>author</th>\n",
       "      <th>n_comments</th>\n",
       "      <th>score</th>\n",
       "      <th>text</th>\n",
       "      <th>id</th>\n",
       "    </tr>\n",
       "  </thead>\n",
       "  <tbody>\n",
       "    <tr>\n",
       "      <th>0</th>\n",
       "      <td>6:24 EET; The Sun is Rising Over Kyiv on the 3...</td>\n",
       "      <td>/r/ukraine/comments/11neqpy/624_eet_the_sun_is...</td>\n",
       "      <td>duellingislands</td>\n",
       "      <td>9</td>\n",
       "      <td>400</td>\n",
       "      <td># 🇺🇦 Слава Україні! 🇺🇦\\n\\n\\_\\_\\_\\_\\_\\_\\_\\_\\_\\_...</td>\n",
       "      <td>11neqpy</td>\n",
       "    </tr>\n",
       "    <tr>\n",
       "      <th>1</th>\n",
       "      <td>Good news. We almost done with DJI Mavic 3T. N...</td>\n",
       "      <td>/r/ukraine/comments/11mraik/good_news_we_almos...</td>\n",
       "      <td>serhiiiam</td>\n",
       "      <td>23</td>\n",
       "      <td>700</td>\n",
       "      <td></td>\n",
       "      <td>11mraik</td>\n",
       "    </tr>\n",
       "    <tr>\n",
       "      <th>2</th>\n",
       "      <td>For those who worry that standing up to Russia...</td>\n",
       "      <td>/r/ukraine/comments/11ngsfp/for_those_who_worr...</td>\n",
       "      <td>pastebluepaste</td>\n",
       "      <td>262</td>\n",
       "      <td>11121</td>\n",
       "      <td></td>\n",
       "      <td>11ngsfp</td>\n",
       "    </tr>\n",
       "    <tr>\n",
       "      <th>3</th>\n",
       "      <td>Many explosions heard in Mariupol!</td>\n",
       "      <td>/r/ukraine/comments/11ns1zo/many_explosions_he...</td>\n",
       "      <td>Kubolomo</td>\n",
       "      <td>104</td>\n",
       "      <td>1043</td>\n",
       "      <td></td>\n",
       "      <td>11ns1zo</td>\n",
       "    </tr>\n",
       "    <tr>\n",
       "      <th>4</th>\n",
       "      <td>Farewell ceremony for Hero of Ukraine Dmytro \"...</td>\n",
       "      <td>/r/ukraine/comments/11nnc7m/farewell_ceremony_...</td>\n",
       "      <td>BananaBrumik</td>\n",
       "      <td>46</td>\n",
       "      <td>1761</td>\n",
       "      <td></td>\n",
       "      <td>11nnc7m</td>\n",
       "    </tr>\n",
       "    <tr>\n",
       "      <th>...</th>\n",
       "      <td>...</td>\n",
       "      <td>...</td>\n",
       "      <td>...</td>\n",
       "      <td>...</td>\n",
       "      <td>...</td>\n",
       "      <td>...</td>\n",
       "      <td>...</td>\n",
       "    </tr>\n",
       "    <tr>\n",
       "      <th>807</th>\n",
       "      <td>It's Always Sunny in Crimea - You can support ...</td>\n",
       "      <td>/r/ukraine/comments/11h52jm/its_always_sunny_i...</td>\n",
       "      <td>Ukraine_Aid_Ops</td>\n",
       "      <td>5</td>\n",
       "      <td>182</td>\n",
       "      <td></td>\n",
       "      <td>11h52jm</td>\n",
       "    </tr>\n",
       "    <tr>\n",
       "      <th>808</th>\n",
       "      <td>Destruction of the Russian Tor-M2 air defense ...</td>\n",
       "      <td>/r/ukraine/comments/11h15ce/destruction_of_the...</td>\n",
       "      <td>Kay51995</td>\n",
       "      <td>4</td>\n",
       "      <td>303</td>\n",
       "      <td></td>\n",
       "      <td>11h15ce</td>\n",
       "    </tr>\n",
       "    <tr>\n",
       "      <th>809</th>\n",
       "      <td>Video of the downed Su-34.</td>\n",
       "      <td>/r/ukraine/comments/11h2en2/video_of_the_downe...</td>\n",
       "      <td>Geschichtsklitterung</td>\n",
       "      <td>22</td>\n",
       "      <td>257</td>\n",
       "      <td></td>\n",
       "      <td>11h2en2</td>\n",
       "    </tr>\n",
       "    <tr>\n",
       "      <th>810</th>\n",
       "      <td>Magyar update from Bakhmut - dated 2 March, po...</td>\n",
       "      <td>/r/ukraine/comments/11gxxmz/magyar_update_from...</td>\n",
       "      <td>RoninSolutions</td>\n",
       "      <td>47</td>\n",
       "      <td>483</td>\n",
       "      <td></td>\n",
       "      <td>11gxxmz</td>\n",
       "    </tr>\n",
       "    <tr>\n",
       "      <th>811</th>\n",
       "      <td>Zelensky meets with Latvian President in Lviv</td>\n",
       "      <td>/r/ukraine/comments/11h4bwa/zelensky_meets_wit...</td>\n",
       "      <td>KI_official</td>\n",
       "      <td>2</td>\n",
       "      <td>194</td>\n",
       "      <td></td>\n",
       "      <td>11h4bwa</td>\n",
       "    </tr>\n",
       "  </tbody>\n",
       "</table>\n",
       "<p>812 rows × 7 columns</p>\n",
       "</div>"
      ],
      "text/plain": [
       "                                                 title  \\\n",
       "0    6:24 EET; The Sun is Rising Over Kyiv on the 3...   \n",
       "1    Good news. We almost done with DJI Mavic 3T. N...   \n",
       "2    For those who worry that standing up to Russia...   \n",
       "3                   Many explosions heard in Mariupol!   \n",
       "4    Farewell ceremony for Hero of Ukraine Dmytro \"...   \n",
       "..                                                 ...   \n",
       "807  It's Always Sunny in Crimea - You can support ...   \n",
       "808  Destruction of the Russian Tor-M2 air defense ...   \n",
       "809                         Video of the downed Su-34.   \n",
       "810  Magyar update from Bakhmut - dated 2 March, po...   \n",
       "811      Zelensky meets with Latvian President in Lviv   \n",
       "\n",
       "                                                  link                author  \\\n",
       "0    /r/ukraine/comments/11neqpy/624_eet_the_sun_is...       duellingislands   \n",
       "1    /r/ukraine/comments/11mraik/good_news_we_almos...             serhiiiam   \n",
       "2    /r/ukraine/comments/11ngsfp/for_those_who_worr...        pastebluepaste   \n",
       "3    /r/ukraine/comments/11ns1zo/many_explosions_he...              Kubolomo   \n",
       "4    /r/ukraine/comments/11nnc7m/farewell_ceremony_...          BananaBrumik   \n",
       "..                                                 ...                   ...   \n",
       "807  /r/ukraine/comments/11h52jm/its_always_sunny_i...       Ukraine_Aid_Ops   \n",
       "808  /r/ukraine/comments/11h15ce/destruction_of_the...              Kay51995   \n",
       "809  /r/ukraine/comments/11h2en2/video_of_the_downe...  Geschichtsklitterung   \n",
       "810  /r/ukraine/comments/11gxxmz/magyar_update_from...        RoninSolutions   \n",
       "811  /r/ukraine/comments/11h4bwa/zelensky_meets_wit...           KI_official   \n",
       "\n",
       "     n_comments  score                                               text  \\\n",
       "0             9    400  # 🇺🇦 Слава Україні! 🇺🇦\\n\\n\\_\\_\\_\\_\\_\\_\\_\\_\\_\\_...   \n",
       "1            23    700                                                      \n",
       "2           262  11121                                                      \n",
       "3           104   1043                                                      \n",
       "4            46   1761                                                      \n",
       "..          ...    ...                                                ...   \n",
       "807           5    182                                                      \n",
       "808           4    303                                                      \n",
       "809          22    257                                                      \n",
       "810          47    483                                                      \n",
       "811           2    194                                                      \n",
       "\n",
       "          id  \n",
       "0    11neqpy  \n",
       "1    11mraik  \n",
       "2    11ngsfp  \n",
       "3    11ns1zo  \n",
       "4    11nnc7m  \n",
       "..       ...  \n",
       "807  11h52jm  \n",
       "808  11h15ce  \n",
       "809  11h2en2  \n",
       "810  11gxxmz  \n",
       "811  11h4bwa  \n",
       "\n",
       "[812 rows x 7 columns]"
      ]
     },
     "execution_count": 13,
     "metadata": {},
     "output_type": "execute_result"
    }
   ],
   "source": [
    "ukr_df_check = pd.read_sql_query('SELECT * FROM posts;', ukr)\n",
    "ukr.close()\n",
    "ukr_df_check"
   ]
  },
  {
   "cell_type": "markdown",
   "id": "10330a6d",
   "metadata": {},
   "source": [
    "### Sentiment analysis"
   ]
  },
  {
   "cell_type": "code",
   "execution_count": 14,
   "id": "e5e84e50",
   "metadata": {},
   "outputs": [
    {
     "data": {
      "text/html": [
       "<div>\n",
       "<style scoped>\n",
       "    .dataframe tbody tr th:only-of-type {\n",
       "        vertical-align: middle;\n",
       "    }\n",
       "\n",
       "    .dataframe tbody tr th {\n",
       "        vertical-align: top;\n",
       "    }\n",
       "\n",
       "    .dataframe thead th {\n",
       "        text-align: right;\n",
       "    }\n",
       "</style>\n",
       "<table border=\"1\" class=\"dataframe\">\n",
       "  <thead>\n",
       "    <tr style=\"text-align: right;\">\n",
       "      <th></th>\n",
       "      <th>title</th>\n",
       "      <th>link</th>\n",
       "      <th>author</th>\n",
       "      <th>n_comments</th>\n",
       "      <th>score</th>\n",
       "      <th>text</th>\n",
       "      <th>id</th>\n",
       "    </tr>\n",
       "  </thead>\n",
       "  <tbody>\n",
       "    <tr>\n",
       "      <th>0</th>\n",
       "      <td>6:24 EET; The Sun is Rising Over Kyiv on the 3...</td>\n",
       "      <td>/r/ukraine/comments/11neqpy/624_eet_the_sun_is...</td>\n",
       "      <td>duellingislands</td>\n",
       "      <td>9</td>\n",
       "      <td>400</td>\n",
       "      <td># 🇺🇦 Слава Україні! 🇺🇦\\n\\n\\_\\_\\_\\_\\_\\_\\_\\_\\_\\_...</td>\n",
       "      <td>11neqpy</td>\n",
       "    </tr>\n",
       "    <tr>\n",
       "      <th>1</th>\n",
       "      <td>Good news. We almost done with DJI Mavic 3T. N...</td>\n",
       "      <td>/r/ukraine/comments/11mraik/good_news_we_almos...</td>\n",
       "      <td>serhiiiam</td>\n",
       "      <td>23</td>\n",
       "      <td>700</td>\n",
       "      <td></td>\n",
       "      <td>11mraik</td>\n",
       "    </tr>\n",
       "    <tr>\n",
       "      <th>2</th>\n",
       "      <td>For those who worry that standing up to Russia...</td>\n",
       "      <td>/r/ukraine/comments/11ngsfp/for_those_who_worr...</td>\n",
       "      <td>pastebluepaste</td>\n",
       "      <td>262</td>\n",
       "      <td>11121</td>\n",
       "      <td></td>\n",
       "      <td>11ngsfp</td>\n",
       "    </tr>\n",
       "    <tr>\n",
       "      <th>3</th>\n",
       "      <td>Many explosions heard in Mariupol!</td>\n",
       "      <td>/r/ukraine/comments/11ns1zo/many_explosions_he...</td>\n",
       "      <td>Kubolomo</td>\n",
       "      <td>104</td>\n",
       "      <td>1043</td>\n",
       "      <td></td>\n",
       "      <td>11ns1zo</td>\n",
       "    </tr>\n",
       "    <tr>\n",
       "      <th>4</th>\n",
       "      <td>Farewell ceremony for Hero of Ukraine Dmytro \"...</td>\n",
       "      <td>/r/ukraine/comments/11nnc7m/farewell_ceremony_...</td>\n",
       "      <td>BananaBrumik</td>\n",
       "      <td>46</td>\n",
       "      <td>1761</td>\n",
       "      <td></td>\n",
       "      <td>11nnc7m</td>\n",
       "    </tr>\n",
       "    <tr>\n",
       "      <th>...</th>\n",
       "      <td>...</td>\n",
       "      <td>...</td>\n",
       "      <td>...</td>\n",
       "      <td>...</td>\n",
       "      <td>...</td>\n",
       "      <td>...</td>\n",
       "      <td>...</td>\n",
       "    </tr>\n",
       "    <tr>\n",
       "      <th>807</th>\n",
       "      <td>It's Always Sunny in Crimea - You can support ...</td>\n",
       "      <td>/r/ukraine/comments/11h52jm/its_always_sunny_i...</td>\n",
       "      <td>Ukraine_Aid_Ops</td>\n",
       "      <td>5</td>\n",
       "      <td>182</td>\n",
       "      <td></td>\n",
       "      <td>11h52jm</td>\n",
       "    </tr>\n",
       "    <tr>\n",
       "      <th>808</th>\n",
       "      <td>Destruction of the Russian Tor-M2 air defense ...</td>\n",
       "      <td>/r/ukraine/comments/11h15ce/destruction_of_the...</td>\n",
       "      <td>Kay51995</td>\n",
       "      <td>4</td>\n",
       "      <td>303</td>\n",
       "      <td></td>\n",
       "      <td>11h15ce</td>\n",
       "    </tr>\n",
       "    <tr>\n",
       "      <th>809</th>\n",
       "      <td>Video of the downed Su-34.</td>\n",
       "      <td>/r/ukraine/comments/11h2en2/video_of_the_downe...</td>\n",
       "      <td>Geschichtsklitterung</td>\n",
       "      <td>22</td>\n",
       "      <td>257</td>\n",
       "      <td></td>\n",
       "      <td>11h2en2</td>\n",
       "    </tr>\n",
       "    <tr>\n",
       "      <th>810</th>\n",
       "      <td>Magyar update from Bakhmut - dated 2 March, po...</td>\n",
       "      <td>/r/ukraine/comments/11gxxmz/magyar_update_from...</td>\n",
       "      <td>RoninSolutions</td>\n",
       "      <td>47</td>\n",
       "      <td>483</td>\n",
       "      <td></td>\n",
       "      <td>11gxxmz</td>\n",
       "    </tr>\n",
       "    <tr>\n",
       "      <th>811</th>\n",
       "      <td>Zelensky meets with Latvian President in Lviv</td>\n",
       "      <td>/r/ukraine/comments/11h4bwa/zelensky_meets_wit...</td>\n",
       "      <td>KI_official</td>\n",
       "      <td>2</td>\n",
       "      <td>194</td>\n",
       "      <td></td>\n",
       "      <td>11h4bwa</td>\n",
       "    </tr>\n",
       "  </tbody>\n",
       "</table>\n",
       "<p>812 rows × 7 columns</p>\n",
       "</div>"
      ],
      "text/plain": [
       "                                                 title  \\\n",
       "0    6:24 EET; The Sun is Rising Over Kyiv on the 3...   \n",
       "1    Good news. We almost done with DJI Mavic 3T. N...   \n",
       "2    For those who worry that standing up to Russia...   \n",
       "3                   Many explosions heard in Mariupol!   \n",
       "4    Farewell ceremony for Hero of Ukraine Dmytro \"...   \n",
       "..                                                 ...   \n",
       "807  It's Always Sunny in Crimea - You can support ...   \n",
       "808  Destruction of the Russian Tor-M2 air defense ...   \n",
       "809                         Video of the downed Su-34.   \n",
       "810  Magyar update from Bakhmut - dated 2 March, po...   \n",
       "811      Zelensky meets with Latvian President in Lviv   \n",
       "\n",
       "                                                  link                author  \\\n",
       "0    /r/ukraine/comments/11neqpy/624_eet_the_sun_is...       duellingislands   \n",
       "1    /r/ukraine/comments/11mraik/good_news_we_almos...             serhiiiam   \n",
       "2    /r/ukraine/comments/11ngsfp/for_those_who_worr...        pastebluepaste   \n",
       "3    /r/ukraine/comments/11ns1zo/many_explosions_he...              Kubolomo   \n",
       "4    /r/ukraine/comments/11nnc7m/farewell_ceremony_...          BananaBrumik   \n",
       "..                                                 ...                   ...   \n",
       "807  /r/ukraine/comments/11h52jm/its_always_sunny_i...       Ukraine_Aid_Ops   \n",
       "808  /r/ukraine/comments/11h15ce/destruction_of_the...              Kay51995   \n",
       "809  /r/ukraine/comments/11h2en2/video_of_the_downe...  Geschichtsklitterung   \n",
       "810  /r/ukraine/comments/11gxxmz/magyar_update_from...        RoninSolutions   \n",
       "811  /r/ukraine/comments/11h4bwa/zelensky_meets_wit...           KI_official   \n",
       "\n",
       "     n_comments  score                                               text  \\\n",
       "0             9    400  # 🇺🇦 Слава Україні! 🇺🇦\\n\\n\\_\\_\\_\\_\\_\\_\\_\\_\\_\\_...   \n",
       "1            23    700                                                      \n",
       "2           262  11121                                                      \n",
       "3           104   1043                                                      \n",
       "4            46   1761                                                      \n",
       "..          ...    ...                                                ...   \n",
       "807           5    182                                                      \n",
       "808           4    303                                                      \n",
       "809          22    257                                                      \n",
       "810          47    483                                                      \n",
       "811           2    194                                                      \n",
       "\n",
       "          id  \n",
       "0    11neqpy  \n",
       "1    11mraik  \n",
       "2    11ngsfp  \n",
       "3    11ns1zo  \n",
       "4    11nnc7m  \n",
       "..       ...  \n",
       "807  11h52jm  \n",
       "808  11h15ce  \n",
       "809  11h2en2  \n",
       "810  11gxxmz  \n",
       "811  11h4bwa  \n",
       "\n",
       "[812 rows x 7 columns]"
      ]
     },
     "execution_count": 14,
     "metadata": {},
     "output_type": "execute_result"
    }
   ],
   "source": [
    "#Load data\n",
    "con = sqlite3.connect('/Users/kienguyen/Documents/DATA SCIENCE/co_reddit.sqlite')\n",
    "df = pd.read_sql_query('SELECT * from posts;', con)\n",
    "con.close()\n",
    "df"
   ]
  },
  {
   "cell_type": "code",
   "execution_count": 2,
   "id": "b1bea944",
   "metadata": {},
   "outputs": [],
   "source": [
    "#extract the sentiment scores of the titles of the posts"
   ]
  },
  {
   "cell_type": "code",
   "execution_count": 15,
   "id": "33292e04",
   "metadata": {},
   "outputs": [],
   "source": [
    "sentiment_df = pd.read_csv('AFINN-en-165.txt', sep='\\t', names=['word', 'score'], index_col='word')"
   ]
  },
  {
   "cell_type": "code",
   "execution_count": 16,
   "id": "5a7646d3",
   "metadata": {},
   "outputs": [
    {
     "data": {
      "text/html": [
       "<div>\n",
       "<style scoped>\n",
       "    .dataframe tbody tr th:only-of-type {\n",
       "        vertical-align: middle;\n",
       "    }\n",
       "\n",
       "    .dataframe tbody tr th {\n",
       "        vertical-align: top;\n",
       "    }\n",
       "\n",
       "    .dataframe thead th {\n",
       "        text-align: right;\n",
       "    }\n",
       "</style>\n",
       "<table border=\"1\" class=\"dataframe\">\n",
       "  <thead>\n",
       "    <tr style=\"text-align: right;\">\n",
       "      <th></th>\n",
       "      <th>score</th>\n",
       "    </tr>\n",
       "    <tr>\n",
       "      <th>word</th>\n",
       "      <th></th>\n",
       "    </tr>\n",
       "  </thead>\n",
       "  <tbody>\n",
       "    <tr>\n",
       "      <th>abandon</th>\n",
       "      <td>-2</td>\n",
       "    </tr>\n",
       "    <tr>\n",
       "      <th>abandoned</th>\n",
       "      <td>-2</td>\n",
       "    </tr>\n",
       "    <tr>\n",
       "      <th>abandons</th>\n",
       "      <td>-2</td>\n",
       "    </tr>\n",
       "    <tr>\n",
       "      <th>abducted</th>\n",
       "      <td>-2</td>\n",
       "    </tr>\n",
       "    <tr>\n",
       "      <th>abduction</th>\n",
       "      <td>-2</td>\n",
       "    </tr>\n",
       "    <tr>\n",
       "      <th>...</th>\n",
       "      <td>...</td>\n",
       "    </tr>\n",
       "    <tr>\n",
       "      <th>yucky</th>\n",
       "      <td>-2</td>\n",
       "    </tr>\n",
       "    <tr>\n",
       "      <th>yummy</th>\n",
       "      <td>3</td>\n",
       "    </tr>\n",
       "    <tr>\n",
       "      <th>zealot</th>\n",
       "      <td>-2</td>\n",
       "    </tr>\n",
       "    <tr>\n",
       "      <th>zealots</th>\n",
       "      <td>-2</td>\n",
       "    </tr>\n",
       "    <tr>\n",
       "      <th>zealous</th>\n",
       "      <td>2</td>\n",
       "    </tr>\n",
       "  </tbody>\n",
       "</table>\n",
       "<p>3382 rows × 1 columns</p>\n",
       "</div>"
      ],
      "text/plain": [
       "           score\n",
       "word            \n",
       "abandon       -2\n",
       "abandoned     -2\n",
       "abandons      -2\n",
       "abducted      -2\n",
       "abduction     -2\n",
       "...          ...\n",
       "yucky         -2\n",
       "yummy          3\n",
       "zealot        -2\n",
       "zealots       -2\n",
       "zealous        2\n",
       "\n",
       "[3382 rows x 1 columns]"
      ]
     },
     "execution_count": 16,
     "metadata": {},
     "output_type": "execute_result"
    }
   ],
   "source": [
    "sentiment_df"
   ]
  },
  {
   "cell_type": "code",
   "execution_count": 17,
   "id": "09ffa3ab",
   "metadata": {},
   "outputs": [],
   "source": [
    "sentiment_dict = sentiment_df.to_dict()['score']"
   ]
  },
  {
   "cell_type": "code",
   "execution_count": 18,
   "id": "963f2faa",
   "metadata": {},
   "outputs": [],
   "source": [
    "import numpy as np\n",
    "# Keyword method\n",
    "title_sentiments = []\n",
    "for title in df['title']:\n",
    "    words = title.lower().split()\n",
    "    this_titles_sentiments = []\n",
    "    for w in words:\n",
    "        if w in sentiment_dict.keys():\n",
    "            this_titles_sentiments.append(sentiment_dict[w])\n",
    "        else:\n",
    "            this_titles_sentiments.append(0)\n",
    "            \n",
    "    \n",
    "    title_sentiments.append(np.mean(this_titles_sentiments))"
   ]
  },
  {
   "cell_type": "code",
   "execution_count": 19,
   "id": "8017f0f9",
   "metadata": {},
   "outputs": [],
   "source": [
    "df['keyword_sentiment'] = title_sentiments"
   ]
  },
  {
   "cell_type": "code",
   "execution_count": 20,
   "id": "f780224e",
   "metadata": {},
   "outputs": [
    {
     "data": {
      "text/plain": [
       "0     -0.085714\n",
       "1      0.156250\n",
       "2     -0.177778\n",
       "3      0.000000\n",
       "4      0.111111\n",
       "         ...   \n",
       "807    0.095238\n",
       "808   -0.181818\n",
       "809    0.000000\n",
       "810    0.000000\n",
       "811    0.000000\n",
       "Name: keyword_sentiment, Length: 812, dtype: float64"
      ]
     },
     "execution_count": 20,
     "metadata": {},
     "output_type": "execute_result"
    }
   ],
   "source": [
    "df['keyword_sentiment']"
   ]
  },
  {
   "cell_type": "code",
   "execution_count": 21,
   "id": "5f12ca8f",
   "metadata": {},
   "outputs": [
    {
     "data": {
      "text/plain": [
       "<AxesSubplot:ylabel='Frequency'>"
      ]
     },
     "execution_count": 21,
     "metadata": {},
     "output_type": "execute_result"
    },
    {
     "data": {
      "image/png": "[encoded data removed]",
      "text/plain": [
       "<Figure size 432x288 with 1 Axes>"
      ]
     },
     "metadata": {
      "needs_background": "light"
     },
     "output_type": "display_data"
    }
   ],
   "source": [
    "df['keyword_sentiment'].plot.hist(bins=20)"
   ]
  },
  {
   "cell_type": "code",
   "execution_count": 22,
   "id": "6c10cbdd",
   "metadata": {},
   "outputs": [
    {
     "data": {
      "text/plain": [
       "-0.014557730048440642"
      ]
     },
     "execution_count": 22,
     "metadata": {},
     "output_type": "execute_result"
    }
   ],
   "source": [
    "df['keyword_sentiment'].mean()"
   ]
  },
  {
   "cell_type": "code",
   "execution_count": 23,
   "id": "f4871abb",
   "metadata": {},
   "outputs": [
    {
     "data": {
      "text/plain": [
       "0.18239390994780602"
      ]
     },
     "execution_count": 23,
     "metadata": {},
     "output_type": "execute_result"
    }
   ],
   "source": [
    "df['keyword_sentiment'].std()"
   ]
  },
  {
   "cell_type": "code",
   "execution_count": 24,
   "id": "8e32ac19",
   "metadata": {},
   "outputs": [
    {
     "data": {
      "text/plain": [
       "0.0"
      ]
     },
     "execution_count": 24,
     "metadata": {},
     "output_type": "execute_result"
    }
   ],
   "source": [
    "df['keyword_sentiment'].median()"
   ]
  },
  {
   "cell_type": "code",
   "execution_count": 13,
   "id": "2cea1b57",
   "metadata": {},
   "outputs": [],
   "source": [
    "#examine the text for some of the highest and lowest sentiment scores"
   ]
  },
  {
   "cell_type": "code",
   "execution_count": 25,
   "id": "d02fb9da",
   "metadata": {},
   "outputs": [
    {
     "data": {
      "text/html": [
       "<div>\n",
       "<style scoped>\n",
       "    .dataframe tbody tr th:only-of-type {\n",
       "        vertical-align: middle;\n",
       "    }\n",
       "\n",
       "    .dataframe tbody tr th {\n",
       "        vertical-align: top;\n",
       "    }\n",
       "\n",
       "    .dataframe thead th {\n",
       "        text-align: right;\n",
       "    }\n",
       "</style>\n",
       "<table border=\"1\" class=\"dataframe\">\n",
       "  <thead>\n",
       "    <tr style=\"text-align: right;\">\n",
       "      <th></th>\n",
       "      <th>title</th>\n",
       "      <th>keyword_sentiment</th>\n",
       "    </tr>\n",
       "  </thead>\n",
       "  <tbody>\n",
       "    <tr>\n",
       "      <th>422</th>\n",
       "      <td>Defiance over Evil</td>\n",
       "      <td>-1.000000</td>\n",
       "    </tr>\n",
       "    <tr>\n",
       "      <th>119</th>\n",
       "      <td>Invaders destroy 400 apartment blocks in Mariu...</td>\n",
       "      <td>-0.769231</td>\n",
       "    </tr>\n",
       "    <tr>\n",
       "      <th>652</th>\n",
       "      <td>NATO commander: Russia lost more than 200,000 ...</td>\n",
       "      <td>-0.615385</td>\n",
       "    </tr>\n",
       "    <tr>\n",
       "      <th>593</th>\n",
       "      <td>Ukrainian military destroy enemy gun, MLRS on ...</td>\n",
       "      <td>-0.555556</td>\n",
       "    </tr>\n",
       "    <tr>\n",
       "      <th>535</th>\n",
       "      <td>Ukraine's Kostyuk dedicates first tennis title...</td>\n",
       "      <td>-0.555556</td>\n",
       "    </tr>\n",
       "    <tr>\n",
       "      <th>...</th>\n",
       "      <td>...</td>\n",
       "      <td>...</td>\n",
       "    </tr>\n",
       "    <tr>\n",
       "      <th>273</th>\n",
       "      <td>Happy International Women’s Day!</td>\n",
       "      <td>0.750000</td>\n",
       "    </tr>\n",
       "    <tr>\n",
       "      <th>75</th>\n",
       "      <td>Fight to Win 💛💙🇺🇦</td>\n",
       "      <td>0.750000</td>\n",
       "    </tr>\n",
       "    <tr>\n",
       "      <th>196</th>\n",
       "      <td>Ukraine’s most committed backer wins a huge el...</td>\n",
       "      <td>0.818182</td>\n",
       "    </tr>\n",
       "    <tr>\n",
       "      <th>419</th>\n",
       "      <td>Absolute Courage and Honor</td>\n",
       "      <td>1.000000</td>\n",
       "    </tr>\n",
       "    <tr>\n",
       "      <th>357</th>\n",
       "      <td>Nice throw</td>\n",
       "      <td>1.500000</td>\n",
       "    </tr>\n",
       "  </tbody>\n",
       "</table>\n",
       "<p>812 rows × 2 columns</p>\n",
       "</div>"
      ],
      "text/plain": [
       "                                                 title  keyword_sentiment\n",
       "422                                 Defiance over Evil          -1.000000\n",
       "119  Invaders destroy 400 apartment blocks in Mariu...          -0.769231\n",
       "652  NATO commander: Russia lost more than 200,000 ...          -0.615385\n",
       "593  Ukrainian military destroy enemy gun, MLRS on ...          -0.555556\n",
       "535  Ukraine's Kostyuk dedicates first tennis title...          -0.555556\n",
       "..                                                 ...                ...\n",
       "273                   Happy International Women’s Day!           0.750000\n",
       "75                                   Fight to Win 💛💙🇺🇦           0.750000\n",
       "196  Ukraine’s most committed backer wins a huge el...           0.818182\n",
       "419                         Absolute Courage and Honor           1.000000\n",
       "357                                         Nice throw           1.500000\n",
       "\n",
       "[812 rows x 2 columns]"
      ]
     },
     "execution_count": 25,
     "metadata": {},
     "output_type": "execute_result"
    }
   ],
   "source": [
    "df.sort_values(by='keyword_sentiment')[['title', 'keyword_sentiment']]"
   ]
  },
  {
   "cell_type": "code",
   "execution_count": 26,
   "id": "c44d0ea1",
   "metadata": {},
   "outputs": [
    {
     "data": {
      "text/plain": [
       "['Defiance over Evil',\n",
       " 'Invaders destroy 400 apartment blocks in Mariupol to hide war crimes – Mayor',\n",
       " 'NATO commander: Russia lost more than 200,000 killed and wounded in the war',\n",
       " 'Ukrainian military destroy enemy gun, MLRS on Kinburn Spit',\n",
       " \"Ukraine's Kostyuk dedicates first tennis title to war victims\",\n",
       " 'Negative one more kornet.',\n",
       " 'Ukraine: How the war is making soil and water toxic',\n",
       " \"Russia's invasion of Ukraine: Making the perpetrators pay\",\n",
       " 'Ukrainian victims of war with Russia deserve justice, Garland says',\n",
       " 'Day 375 - The Destruction in This War is Beyond Understanding - War in Ukraine']"
      ]
     },
     "execution_count": 26,
     "metadata": {},
     "output_type": "execute_result"
    }
   ],
   "source": [
    "df.sort_values(by='keyword_sentiment')['title'].to_list()[:10]"
   ]
  },
  {
   "cell_type": "code",
   "execution_count": 27,
   "id": "c21cec94",
   "metadata": {},
   "outputs": [
    {
     "data": {
      "text/plain": [
       "['Nice throw',\n",
       " 'Absolute Courage and Honor',\n",
       " 'Ukraine’s most committed backer wins a huge election victory in Estonia',\n",
       " 'Fight to Win 💛💙🇺🇦',\n",
       " 'Happy International Women’s Day!',\n",
       " 'Russian engineering at its finest',\n",
       " 'Fight to win 💛💙🇺🇦 Taras Shevchenko',\n",
       " 'Ukrainian Rights Group Truth Hounds Wins Norwegian Prize',\n",
       " 'I-134 form help (family)',\n",
       " 'Solar panels to donate']"
      ]
     },
     "execution_count": 27,
     "metadata": {},
     "output_type": "execute_result"
    }
   ],
   "source": [
    "df.sort_values(by='keyword_sentiment', ascending=False)['title'].to_list()[:10]"
   ]
  },
  {
   "cell_type": "code",
   "execution_count": 29,
   "id": "e5e32b04",
   "metadata": {},
   "outputs": [],
   "source": [
    "#TextBlob method\n",
    "from textblob import TextBlob"
   ]
  },
  {
   "cell_type": "code",
   "execution_count": 30,
   "id": "e3d78fc5",
   "metadata": {},
   "outputs": [],
   "source": [
    "def get_tb_sentiment(text):\n",
    "    tb = TextBlob(text)\n",
    "    return tb.sentiment[0]\n",
    "\n",
    "df['tb_sentiment'] = df['title'].apply(get_tb_sentiment)"
   ]
  },
  {
   "cell_type": "code",
   "execution_count": 31,
   "id": "fe3486ee",
   "metadata": {},
   "outputs": [
    {
     "data": {
      "text/plain": [
       "<AxesSubplot:ylabel='Frequency'>"
      ]
     },
     "execution_count": 31,
     "metadata": {},
     "output_type": "execute_result"
    },
    {
     "data": {
      "image/png": "[encoded data removed]",
      "text/plain": [
       "<Figure size 432x288 with 1 Axes>"
      ]
     },
     "metadata": {
      "needs_background": "light"
     },
     "output_type": "display_data"
    }
   ],
   "source": [
    "df['tb_sentiment'].plot.hist(bins=20)"
   ]
  },
  {
   "cell_type": "code",
   "execution_count": 32,
   "id": "af577641",
   "metadata": {},
   "outputs": [
    {
     "data": {
      "text/plain": [
       "0.05859302194623933"
      ]
     },
     "execution_count": 32,
     "metadata": {},
     "output_type": "execute_result"
    }
   ],
   "source": [
    "df['tb_sentiment'].mean()"
   ]
  },
  {
   "cell_type": "code",
   "execution_count": 33,
   "id": "5fea8889",
   "metadata": {},
   "outputs": [
    {
     "data": {
      "text/plain": [
       "0.21300704107920854"
      ]
     },
     "execution_count": 33,
     "metadata": {},
     "output_type": "execute_result"
    }
   ],
   "source": [
    "df['tb_sentiment'].std()"
   ]
  },
  {
   "cell_type": "code",
   "execution_count": 34,
   "id": "576fb06c",
   "metadata": {},
   "outputs": [
    {
     "data": {
      "text/plain": [
       "0.0"
      ]
     },
     "execution_count": 34,
     "metadata": {},
     "output_type": "execute_result"
    }
   ],
   "source": [
    "df['tb_sentiment'].median()"
   ]
  },
  {
   "cell_type": "code",
   "execution_count": 25,
   "id": "35de62e6",
   "metadata": {},
   "outputs": [],
   "source": [
    "#VADER method"
   ]
  },
  {
   "cell_type": "code",
   "execution_count": 35,
   "id": "8601e899",
   "metadata": {},
   "outputs": [
    {
     "name": "stderr",
     "output_type": "stream",
     "text": [
      "[nltk_data] Downloading package vader_lexicon to\n",
      "[nltk_data]     /Users/kienguyen/nltk_data...\n"
     ]
    }
   ],
   "source": [
    "import nltk\n",
    "nltk.download('vader_lexicon')\n",
    "from vaderSentiment.vaderSentiment import SentimentIntensityAnalyzer"
   ]
  },
  {
   "cell_type": "code",
   "execution_count": 36,
   "id": "ce1a3ad3",
   "metadata": {},
   "outputs": [
    {
     "data": {
      "text/html": [
       "<div>\n",
       "<style scoped>\n",
       "    .dataframe tbody tr th:only-of-type {\n",
       "        vertical-align: middle;\n",
       "    }\n",
       "\n",
       "    .dataframe tbody tr th {\n",
       "        vertical-align: top;\n",
       "    }\n",
       "\n",
       "    .dataframe thead th {\n",
       "        text-align: right;\n",
       "    }\n",
       "</style>\n",
       "<table border=\"1\" class=\"dataframe\">\n",
       "  <thead>\n",
       "    <tr style=\"text-align: right;\">\n",
       "      <th></th>\n",
       "      <th>title</th>\n",
       "      <th>link</th>\n",
       "      <th>author</th>\n",
       "      <th>n_comments</th>\n",
       "      <th>score</th>\n",
       "      <th>text</th>\n",
       "      <th>id</th>\n",
       "      <th>keyword_sentiment</th>\n",
       "      <th>tb_sentiment</th>\n",
       "      <th>vd_sentiment</th>\n",
       "    </tr>\n",
       "  </thead>\n",
       "  <tbody>\n",
       "    <tr>\n",
       "      <th>0</th>\n",
       "      <td>6:24 EET; The Sun is Rising Over Kyiv on the 3...</td>\n",
       "      <td>/r/ukraine/comments/11neqpy/624_eet_the_sun_is...</td>\n",
       "      <td>duellingislands</td>\n",
       "      <td>9</td>\n",
       "      <td>400</td>\n",
       "      <td># 🇺🇦 Слава Україні! 🇺🇦\\n\\n\\_\\_\\_\\_\\_\\_\\_\\_\\_\\_...</td>\n",
       "      <td>11neqpy</td>\n",
       "      <td>-0.085714</td>\n",
       "      <td>0.000</td>\n",
       "      <td>{'neg': 0.096, 'neu': 0.904, 'pos': 0.0, 'comp...</td>\n",
       "    </tr>\n",
       "    <tr>\n",
       "      <th>1</th>\n",
       "      <td>Good news. We almost done with DJI Mavic 3T. N...</td>\n",
       "      <td>/r/ukraine/comments/11mraik/good_news_we_almos...</td>\n",
       "      <td>serhiiiam</td>\n",
       "      <td>23</td>\n",
       "      <td>700</td>\n",
       "      <td></td>\n",
       "      <td>11mraik</td>\n",
       "      <td>0.156250</td>\n",
       "      <td>0.600</td>\n",
       "      <td>{'neg': 0.0, 'neu': 0.773, 'pos': 0.227, 'comp...</td>\n",
       "    </tr>\n",
       "    <tr>\n",
       "      <th>2</th>\n",
       "      <td>For those who worry that standing up to Russia...</td>\n",
       "      <td>/r/ukraine/comments/11ngsfp/for_those_who_worr...</td>\n",
       "      <td>pastebluepaste</td>\n",
       "      <td>262</td>\n",
       "      <td>11121</td>\n",
       "      <td></td>\n",
       "      <td>11ngsfp</td>\n",
       "      <td>-0.177778</td>\n",
       "      <td>0.160</td>\n",
       "      <td>{'neg': 0.251, 'neu': 0.69, 'pos': 0.058, 'com...</td>\n",
       "    </tr>\n",
       "    <tr>\n",
       "      <th>3</th>\n",
       "      <td>Many explosions heard in Mariupol!</td>\n",
       "      <td>/r/ukraine/comments/11ns1zo/many_explosions_he...</td>\n",
       "      <td>Kubolomo</td>\n",
       "      <td>104</td>\n",
       "      <td>1043</td>\n",
       "      <td></td>\n",
       "      <td>11ns1zo</td>\n",
       "      <td>0.000000</td>\n",
       "      <td>0.625</td>\n",
       "      <td>{'neg': 0.0, 'neu': 1.0, 'pos': 0.0, 'compound...</td>\n",
       "    </tr>\n",
       "    <tr>\n",
       "      <th>4</th>\n",
       "      <td>Farewell ceremony for Hero of Ukraine Dmytro \"...</td>\n",
       "      <td>/r/ukraine/comments/11nnc7m/farewell_ceremony_...</td>\n",
       "      <td>BananaBrumik</td>\n",
       "      <td>46</td>\n",
       "      <td>1761</td>\n",
       "      <td></td>\n",
       "      <td>11nnc7m</td>\n",
       "      <td>0.111111</td>\n",
       "      <td>0.000</td>\n",
       "      <td>{'neg': 0.0, 'neu': 0.825, 'pos': 0.175, 'comp...</td>\n",
       "    </tr>\n",
       "  </tbody>\n",
       "</table>\n",
       "</div>"
      ],
      "text/plain": [
       "                                               title  \\\n",
       "0  6:24 EET; The Sun is Rising Over Kyiv on the 3...   \n",
       "1  Good news. We almost done with DJI Mavic 3T. N...   \n",
       "2  For those who worry that standing up to Russia...   \n",
       "3                 Many explosions heard in Mariupol!   \n",
       "4  Farewell ceremony for Hero of Ukraine Dmytro \"...   \n",
       "\n",
       "                                                link           author  \\\n",
       "0  /r/ukraine/comments/11neqpy/624_eet_the_sun_is...  duellingislands   \n",
       "1  /r/ukraine/comments/11mraik/good_news_we_almos...        serhiiiam   \n",
       "2  /r/ukraine/comments/11ngsfp/for_those_who_worr...   pastebluepaste   \n",
       "3  /r/ukraine/comments/11ns1zo/many_explosions_he...         Kubolomo   \n",
       "4  /r/ukraine/comments/11nnc7m/farewell_ceremony_...     BananaBrumik   \n",
       "\n",
       "   n_comments  score                                               text  \\\n",
       "0           9    400  # 🇺🇦 Слава Україні! 🇺🇦\\n\\n\\_\\_\\_\\_\\_\\_\\_\\_\\_\\_...   \n",
       "1          23    700                                                      \n",
       "2         262  11121                                                      \n",
       "3         104   1043                                                      \n",
       "4          46   1761                                                      \n",
       "\n",
       "        id  keyword_sentiment  tb_sentiment  \\\n",
       "0  11neqpy          -0.085714         0.000   \n",
       "1  11mraik           0.156250         0.600   \n",
       "2  11ngsfp          -0.177778         0.160   \n",
       "3  11ns1zo           0.000000         0.625   \n",
       "4  11nnc7m           0.111111         0.000   \n",
       "\n",
       "                                        vd_sentiment  \n",
       "0  {'neg': 0.096, 'neu': 0.904, 'pos': 0.0, 'comp...  \n",
       "1  {'neg': 0.0, 'neu': 0.773, 'pos': 0.227, 'comp...  \n",
       "2  {'neg': 0.251, 'neu': 0.69, 'pos': 0.058, 'com...  \n",
       "3  {'neg': 0.0, 'neu': 1.0, 'pos': 0.0, 'compound...  \n",
       "4  {'neg': 0.0, 'neu': 0.825, 'pos': 0.175, 'comp...  "
      ]
     },
     "execution_count": 36,
     "metadata": {},
     "output_type": "execute_result"
    }
   ],
   "source": [
    "analyzer = SentimentIntensityAnalyzer()\n",
    "df['vd_sentiment'] = df['title'].apply(lambda title: analyzer.polarity_scores(title))\n",
    "df.head()"
   ]
  },
  {
   "cell_type": "code",
   "execution_count": 37,
   "id": "b4ce0d21",
   "metadata": {},
   "outputs": [],
   "source": [
    "df['vd_compound'] = df['vd_sentiment'].apply(lambda score_dict: score_dict['compound'])\n",
    "df['sentiment_type']=''\n",
    "df.loc[df.vd_compound>0,'sentiment_type']='POSITIVE'\n",
    "df.loc[df.vd_compound==0,'sentiment_type']='NEUTRAL'\n",
    "df.loc[df.vd_compound<0,'sentiment_type']='NEGATIVE'"
   ]
  },
  {
   "cell_type": "code",
   "execution_count": 38,
   "id": "7756a6c7",
   "metadata": {},
   "outputs": [
    {
     "data": {
      "text/plain": [
       "<AxesSubplot:title={'center':'sentiment analysis'}>"
      ]
     },
     "execution_count": 38,
     "metadata": {},
     "output_type": "execute_result"
    },
    {
     "data": {
      "image/png": "[encoded data removed]",
      "text/plain": [
       "<Figure size 432x288 with 1 Axes>"
      ]
     },
     "metadata": {
      "needs_background": "light"
     },
     "output_type": "display_data"
    }
   ],
   "source": [
    "df.sentiment_type.value_counts().plot(kind='bar',title=\"sentiment analysis\")"
   ]
  },
  {
   "cell_type": "code",
   "execution_count": 39,
   "id": "3d89d3d6",
   "metadata": {},
   "outputs": [
    {
     "data": {
      "text/plain": [
       "<AxesSubplot:ylabel='Frequency'>"
      ]
     },
     "execution_count": 39,
     "metadata": {},
     "output_type": "execute_result"
    },
    {
     "data": {
      "image/png": "[encoded data removed]",
      "text/plain": [
       "<Figure size 432x288 with 1 Axes>"
      ]
     },
     "metadata": {
      "needs_background": "light"
     },
     "output_type": "display_data"
    }
   ],
   "source": [
    "df['vd_compound'].plot.hist(bins=20)"
   ]
  },
  {
   "cell_type": "code",
   "execution_count": 43,
   "id": "04250b00",
   "metadata": {},
   "outputs": [
    {
     "data": {
      "text/plain": [
       "-0.011711330049261094"
      ]
     },
     "execution_count": 43,
     "metadata": {},
     "output_type": "execute_result"
    }
   ],
   "source": [
    "df['vd_compound'].mean()"
   ]
  },
  {
   "cell_type": "code",
   "execution_count": 41,
   "id": "14a2c41f",
   "metadata": {},
   "outputs": [
    {
     "data": {
      "text/plain": [
       "0.46201720076734004"
      ]
     },
     "execution_count": 41,
     "metadata": {},
     "output_type": "execute_result"
    }
   ],
   "source": [
    "df['vd_compound'].std()"
   ]
  },
  {
   "cell_type": "code",
   "execution_count": 42,
   "id": "94b85431",
   "metadata": {},
   "outputs": [
    {
     "data": {
      "text/plain": [
       "0.0"
      ]
     },
     "execution_count": 42,
     "metadata": {},
     "output_type": "execute_result"
    }
   ],
   "source": [
    "df['vd_compound'].median()"
   ]
  },
  {
   "cell_type": "markdown",
   "id": "236f9eda",
   "metadata": {},
   "source": [
    "# Summary"
   ]
  },
  {
   "cell_type": "markdown",
   "id": "c7d6282c",
   "metadata": {},
   "source": [
    "Firstly, I tried to extract the sentiment scores of the titles of the posts by using keyword method, and the scores are mainly around 0, however the average score is -0.015. Next, I tried more with Textblob and Vader to check the sentiment scores between these methods. It's  different among these 3 methods, the Textblob method gives us a positive average scores, while the other two resulted in negative mean scores, the Vader method and Keyword socres are almost -0.012 vs -0.02. However, the standard deviation is nearly the same between Keyword and Textblob methods, around 0.2.\n",
    "\n",
    "In general, the content about \"Ukraine\" on Reddit seems negative according to the Keyword and Vader methods.\n",
    "\n",
    "According to the Keyword method, the content of the posts having highest sentiment score is mostly to encourage Ukraine and the posts having lowest scores is mostly to against the war.\n",
    "\n",
    "In my opinion, these findings can help journalists or communication companies understand about the people who care about the status of Ukraine to write and issue articles with proper topics and words."
   ]
  }
 ],
 "metadata": {
  "kernelspec": {
   "display_name": "Python 3 (ipykernel)",
   "language": "python",
   "name": "python3"
  },
  "language_info": {
   "codemirror_mode": {
    "name": "ipython",
    "version": 3
   },
   "file_extension": ".py",
   "mimetype": "text/x-python",
   "name": "python",
   "nbconvert_exporter": "python",
   "pygments_lexer": "ipython3",
   "version": "3.9.12"
  }
 },
 "nbformat": 4,
 "nbformat_minor": 5
}
